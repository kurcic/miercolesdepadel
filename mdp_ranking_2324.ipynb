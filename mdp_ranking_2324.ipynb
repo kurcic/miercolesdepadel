{
 "cells": [
  {
   "cell_type": "code",
   "execution_count": 3,
   "id": "764ef9c4",
   "metadata": {},
   "outputs": [],
   "source": [
    "# This is the code to produce the MdP ranking for 2022/23"
   ]
  },
  {
   "cell_type": "code",
   "execution_count": 4,
   "id": "806fb859",
   "metadata": {
    "scrolled": true
   },
   "outputs": [
    {
     "name": "stdout",
     "output_type": "stream",
     "text": [
      "Requirement already satisfied: trueskill in c:\\users\\feder\\anaconda3\\lib\\site-packages (0.4.5)\n",
      "Requirement already satisfied: six in c:\\users\\feder\\anaconda3\\lib\\site-packages (from trueskill) (1.15.0)\n",
      "Note: you may need to restart the kernel to use updated packages.\n"
     ]
    },
    {
     "name": "stderr",
     "output_type": "stream",
     "text": [
      "WARNING: You are using pip version 21.2.4; however, version 23.2.1 is available.\n",
      "You should consider upgrading via the 'C:\\Users\\feder\\anaconda3\\python.exe -m pip install --upgrade pip' command.\n"
     ]
    }
   ],
   "source": [
    "pip install trueskill"
   ]
  },
  {
   "cell_type": "code",
   "execution_count": 5,
   "id": "23332bbf",
   "metadata": {},
   "outputs": [
    {
     "name": "stdout",
     "output_type": "stream",
     "text": [
      "Requirement already satisfied: varname in c:\\users\\feder\\anaconda3\\lib\\site-packages (0.10.0)\n",
      "Requirement already satisfied: executing<2.0,>=1.1 in c:\\users\\feder\\anaconda3\\lib\\site-packages (from varname) (1.2.0)\n",
      "Note: you may need to restart the kernel to use updated packages.\n"
     ]
    },
    {
     "name": "stderr",
     "output_type": "stream",
     "text": [
      "WARNING: You are using pip version 21.2.4; however, version 23.2.1 is available.\n",
      "You should consider upgrading via the 'C:\\Users\\feder\\anaconda3\\python.exe -m pip install --upgrade pip' command.\n"
     ]
    }
   ],
   "source": [
    "pip install varname "
   ]
  },
  {
   "cell_type": "code",
   "execution_count": 6,
   "id": "5847a87b",
   "metadata": {},
   "outputs": [],
   "source": [
    "from trueskill import Rating, quality, rate"
   ]
  },
  {
   "cell_type": "code",
   "execution_count": 7,
   "id": "10341cb0",
   "metadata": {},
   "outputs": [
    {
     "name": "stdout",
     "output_type": "stream",
     "text": [
      "Requirement already satisfied: pandas in c:\\users\\feder\\anaconda3\\lib\\site-packages (1.2.4)\n",
      "Requirement already satisfied: pytz>=2017.3 in c:\\users\\feder\\anaconda3\\lib\\site-packages (from pandas) (2021.1)\n",
      "Requirement already satisfied: numpy>=1.16.5 in c:\\users\\feder\\anaconda3\\lib\\site-packages (from pandas) (1.20.1)\n",
      "Requirement already satisfied: python-dateutil>=2.7.3 in c:\\users\\feder\\anaconda3\\lib\\site-packages (from pandas) (2.8.1)\n",
      "Requirement already satisfied: six>=1.5 in c:\\users\\feder\\anaconda3\\lib\\site-packages (from python-dateutil>=2.7.3->pandas) (1.15.0)\n",
      "Note: you may need to restart the kernel to use updated packages.\n"
     ]
    },
    {
     "name": "stderr",
     "output_type": "stream",
     "text": [
      "WARNING: You are using pip version 21.2.4; however, version 23.2.1 is available.\n",
      "You should consider upgrading via the 'C:\\Users\\feder\\anaconda3\\python.exe -m pip install --upgrade pip' command.\n"
     ]
    }
   ],
   "source": [
    "pip install pandas"
   ]
  },
  {
   "cell_type": "code",
   "execution_count": 8,
   "id": "64dba1b4",
   "metadata": {},
   "outputs": [],
   "source": [
    "import pandas as pd"
   ]
  },
  {
   "cell_type": "code",
   "execution_count": 9,
   "id": "f266e8c9",
   "metadata": {},
   "outputs": [],
   "source": [
    "# parameters \n",
    "a = 5\n",
    "k = 2"
   ]
  },
  {
   "cell_type": "code",
   "execution_count": 24,
   "id": "b43345c7",
   "metadata": {},
   "outputs": [],
   "source": [
    "#  initial ratings\n",
    "\n",
    "players_names = (\"Guille\", \"Fede\" , \"Dani\" , \"Clodo\" , \"Toni\" , \"Alessio\" , \"Evaristo\" , \"Gigi\" , \"CarloG\", \"Marco\", \"Marc\", \"Jan\", \"CarloC\", \"CarloS\", \"Edo\", \"Nic\", \"Willie\", \"Rodi\", \"Sebas\", \"Jose\")\n",
    "\n",
    "Guille = Rating(25)\n",
    "Fede = Rating(25)\n",
    "Dani = Rating(25)\n",
    "Clodo = Rating(25)\n",
    "Toni = Rating(25)\n",
    "Alessio = Rating(25)\n",
    "Evaristo = Rating(25)\n",
    "Gigi = Rating(25)\n",
    "CarloG = Rating(25)\n",
    "Marco = Rating(25)\n",
    "Marc = Rating(25)\n",
    "Jan = Rating(25)\n",
    "CarloC = Rating(25)\n",
    "CarloS = Rating(25)\n",
    "Edo = Rating(25)\n",
    "Nic = Rating(25)\n",
    "Willie = Rating(25)\n",
    "Rodi = Rating(25)\n",
    "Sebas = Rating(25)\n",
    "Jose = Rating(25)\n",
    "\n",
    "# ranks=[0, 1] : wins first team\n",
    "# ranks=[1, 0] : wins second team \n",
    "# ranks=[0, 0] : drawn "
   ]
  },
  {
   "cell_type": "code",
   "execution_count": 25,
   "id": "233533aa",
   "metadata": {},
   "outputs": [],
   "source": [
    "# ----------\n",
    "# 30 agosto 2023\n",
    "# ----------\n",
    "\n",
    "A = [Jose , Jan]  \n",
    "B = [Evaristo , Fede]  \n",
    "(Jose , Jan), (Evaristo , Fede) = rate([A, B], ranks=[1, 0])\n",
    "# 6-7\n",
    "\n",
    "A = [Fede , Jose]  \n",
    "B = [Evaristo , Jan]  \n",
    "(Fede , Jose), (Evaristo , Jan) = rate([A, B], ranks=[0, 1])\n",
    "# 6-4\n",
    "\n",
    "A = [Jose , Evaristo]  \n",
    "B = [Fede , Jan]  \n",
    "(Jose , Evaristo), (Fede , Jan) = rate([A, B], ranks=[1, 0])\n",
    "# 3-6"
   ]
  },
  {
   "cell_type": "code",
   "execution_count": 26,
   "id": "a228127c",
   "metadata": {},
   "outputs": [],
   "source": [
    "# ----------\n",
    "# 13 septiembre 2023\n",
    "# ----------\n",
    "\n",
    "A = [Fede , Edo]  \n",
    "B = [Dani , Gigi]  \n",
    "(Fede , Edo), (Dani , Gigi) = rate([A, B], ranks=[1, 0])\n",
    "# 3-6\n",
    "\n",
    "A = [Fede , Dani]  \n",
    "B = [Gigi , Edo]  \n",
    "(Fede , Dani), (Gigi , Edo) = rate([A, B], ranks=[1, 0])\n",
    "# 4-6\n",
    "\n",
    "A = [Fede , Gigi]  \n",
    "B = [Dani, Edo]  \n",
    "(Fede , Gigi), (Dani, Edo) = rate([A, B], ranks=[0, 1])\n",
    "# 6-1"
   ]
  },
  {
   "cell_type": "code",
   "execution_count": 27,
   "id": "4f4347a5",
   "metadata": {},
   "outputs": [],
   "source": [
    "# ----------\n",
    "# 27 septiembre 2023\n",
    "# ----------\n",
    "\n",
    "A = [Clodo, CarloG]  \n",
    "B = [Guille, Jan]  \n",
    "(Clodo, CarloG), (Guille, Jan) = rate([A, B], ranks=[1, 0])\n",
    "# 3-6\n",
    "\n",
    "A = [Clodo, Jan]  \n",
    "B = [Guille, CarloG]  \n",
    "(Clodo, Jan), (Guille, CarloG) = rate([A, B], ranks=[1, 0])\n",
    "# 3-6\n",
    "\n",
    "A = [Clodo , Guille]  \n",
    "B = [CarloG, Jan]  \n",
    "(Clodo , Guille), (CarloG, Jan) = rate([A, B], ranks=[1, 0])\n",
    "# 5-7\n",
    "\n",
    "A = [Clodo , CarloG]  \n",
    "B = [Guille, Jan]  \n",
    "(Clodo , CarloG), (Guille, Jan) = rate([A, B], ranks=[0, 1])\n",
    "# 6-0"
   ]
  },
  {
   "cell_type": "code",
   "execution_count": 28,
   "id": "2bc9ab88",
   "metadata": {},
   "outputs": [
    {
     "name": "stdout",
     "output_type": "stream",
     "text": [
      "        Name      Score\n",
      "0       Gigi  21.807189\n",
      "1     CarloG  18.240613\n",
      "2       Fede  16.795801\n",
      "3     Guille  11.629554\n",
      "4        Jan  10.869387\n",
      "5       Dani  10.394931\n",
      "6        Edo  10.091027\n",
      "7   Evaristo   8.982247\n",
      "8       Jose   8.494868\n",
      "9      Marco   8.333333\n",
      "10   Alessio   8.333333\n",
      "11      Toni   8.333333\n",
      "12    CarloC   8.333333\n",
      "13    CarloS   8.333333\n",
      "14       Nic   8.333333\n",
      "15    Willie   8.333333\n",
      "16      Rodi   8.333333\n",
      "17     Sebas   8.333333\n",
      "18      Marc   8.333333\n",
      "19     Clodo   7.149165\n"
     ]
    }
   ],
   "source": [
    "# ----------\n",
    "# Leaderboards \n",
    "# ----------\n",
    "\n",
    "leaderboards = pd.DataFrame(columns=['Name', 'Score'])\n",
    "j = 0\n",
    "for i in Guille, Fede, Dani, Clodo, Toni, Alessio, Evaristo, Gigi, CarloG, Marco, Marc, Jan, CarloC, CarloS, Edo, Nic, Willie, Rodi, Sebas, Jose:\n",
    "    leaderboards = leaderboards.append({'Name': players_names[j] , 'Score': i.mu.real - k*i.sigma.real}, ignore_index=True) \n",
    "    j = j + 1   \n",
    "    \n",
    "\n",
    "leaderboards = leaderboards.sort_values(by=['Score'] , ascending=False , ignore_index=True)\n",
    "print(leaderboards)"
   ]
  },
  {
   "cell_type": "code",
   "execution_count": null,
   "id": "154dc909",
   "metadata": {},
   "outputs": [],
   "source": []
  }
 ],
 "metadata": {
  "kernelspec": {
   "display_name": "Python 3",
   "language": "python",
   "name": "python3"
  },
  "language_info": {
   "codemirror_mode": {
    "name": "ipython",
    "version": 3
   },
   "file_extension": ".py",
   "mimetype": "text/x-python",
   "name": "python",
   "nbconvert_exporter": "python",
   "pygments_lexer": "ipython3",
   "version": "3.8.8"
  }
 },
 "nbformat": 4,
 "nbformat_minor": 5
}
