{
 "cells": [
  {
   "cell_type": "code",
   "execution_count": 27,
   "id": "764ef9c4",
   "metadata": {},
   "outputs": [],
   "source": [
    "# This is the code to produce the MdP ranking for 2022/23"
   ]
  },
  {
   "cell_type": "code",
   "execution_count": 28,
   "id": "806fb859",
   "metadata": {
    "scrolled": true
   },
   "outputs": [
    {
     "name": "stdout",
     "output_type": "stream",
     "text": [
      "Requirement already satisfied: trueskill in c:\\users\\feder\\anaconda3\\lib\\site-packages (0.4.5)\n",
      "Requirement already satisfied: six in c:\\users\\feder\\anaconda3\\lib\\site-packages (from trueskill) (1.15.0)\n",
      "Note: you may need to restart the kernel to use updated packages.\n"
     ]
    },
    {
     "name": "stderr",
     "output_type": "stream",
     "text": [
      "WARNING: You are using pip version 21.2.4; however, version 22.3.1 is available.\n",
      "You should consider upgrading via the 'C:\\Users\\feder\\anaconda3\\python.exe -m pip install --upgrade pip' command.\n"
     ]
    }
   ],
   "source": [
    "pip install trueskill"
   ]
  },
  {
   "cell_type": "code",
   "execution_count": 29,
   "id": "23332bbf",
   "metadata": {},
   "outputs": [
    {
     "name": "stdout",
     "output_type": "stream",
     "text": [
      "Requirement already satisfied: varname in c:\\users\\feder\\anaconda3\\lib\\site-packages (0.10.0)\n",
      "Requirement already satisfied: executing<2.0,>=1.1 in c:\\users\\feder\\anaconda3\\lib\\site-packages (from varname) (1.2.0)\n",
      "Note: you may need to restart the kernel to use updated packages.\n"
     ]
    },
    {
     "name": "stderr",
     "output_type": "stream",
     "text": [
      "WARNING: You are using pip version 21.2.4; however, version 22.3.1 is available.\n",
      "You should consider upgrading via the 'C:\\Users\\feder\\anaconda3\\python.exe -m pip install --upgrade pip' command.\n"
     ]
    }
   ],
   "source": [
    "pip install varname "
   ]
  },
  {
   "cell_type": "code",
   "execution_count": 30,
   "id": "5847a87b",
   "metadata": {},
   "outputs": [],
   "source": [
    "from trueskill import Rating, quality, rate"
   ]
  },
  {
   "cell_type": "code",
   "execution_count": 31,
   "id": "64dba1b4",
   "metadata": {},
   "outputs": [],
   "source": [
    "import pandas as pd"
   ]
  },
  {
   "cell_type": "code",
   "execution_count": 32,
   "id": "10341cb0",
   "metadata": {},
   "outputs": [
    {
     "ename": "ImportError",
     "evalue": "cannot import name 'Wrapper' from 'varname' (C:\\Users\\feder\\anaconda3\\lib\\site-packages\\varname\\__init__.py)",
     "output_type": "error",
     "traceback": [
      "\u001b[1;31m---------------------------------------------------------------------------\u001b[0m",
      "\u001b[1;31mImportError\u001b[0m                               Traceback (most recent call last)",
      "\u001b[1;32m<ipython-input-32-0337a1975afb>\u001b[0m in \u001b[0;36m<module>\u001b[1;34m\u001b[0m\n\u001b[1;32m----> 1\u001b[1;33m \u001b[1;32mfrom\u001b[0m \u001b[0mvarname\u001b[0m \u001b[1;32mimport\u001b[0m \u001b[0mWrapper\u001b[0m\u001b[1;33m\u001b[0m\u001b[1;33m\u001b[0m\u001b[0m\n\u001b[0m",
      "\u001b[1;31mImportError\u001b[0m: cannot import name 'Wrapper' from 'varname' (C:\\Users\\feder\\anaconda3\\lib\\site-packages\\varname\\__init__.py)"
     ]
    }
   ],
   "source": [
    "from varname import Wrapper"
   ]
  },
  {
   "cell_type": "code",
   "execution_count": 33,
   "id": "f266e8c9",
   "metadata": {},
   "outputs": [],
   "source": [
    "# parameters \n",
    "a = 5\n",
    "k = 2"
   ]
  },
  {
   "cell_type": "code",
   "execution_count": 34,
   "id": "b43345c7",
   "metadata": {},
   "outputs": [],
   "source": [
    "#  initial ratings\n",
    "\n",
    "players_names = (\"Guille\", \"Fede\" , \"Dani\" , \"Clodo\" , \"Toni\" , \"Alessio\" , \"Evaristo\" , \"Gigi\" , \"CarloG\", \"Marco\", \"Marc\", \"Jan\", \"CarloC\", \"CarloS\", \"Edo\")\n",
    "\n",
    "Guille = Rating(25)\n",
    "Fede = Rating(25)\n",
    "Dani = Rating(25)\n",
    "Clodo = Rating(25)\n",
    "Toni = Rating(25)\n",
    "Alessio = Rating(25)\n",
    "Evaristo = Rating(25)\n",
    "Gigi = Rating(25)\n",
    "CarloG = Rating(25)\n",
    "Marco = Rating(25)\n",
    "Marc = Rating(25)\n",
    "Jan = Rating(25)\n",
    "CarloC = Rating(25)\n",
    "CarloS = Rating(25)\n",
    "Edo = Rating(25)\n",
    "\n",
    "# ranks=[0, 1] : wins first team\n",
    "# ranks=[1, 0] : wins second team \n",
    "# ranks=[0, 0] : drawn "
   ]
  },
  {
   "cell_type": "code",
   "execution_count": 35,
   "id": "233533aa",
   "metadata": {},
   "outputs": [],
   "source": [
    "# ----------\n",
    "# 31 agosto 2022\n",
    "# ----------\n",
    "\n",
    "A = [CarloG , Clodo]  \n",
    "B = [Evaristo , Alessio]  \n",
    "(CarloG , Clodo), (Evaristo , Alessio) = rate([A, B], ranks=[0, 1])\n",
    "# 6-3\n",
    "\n",
    "A = [CarloG , Alessio]  \n",
    "B = [Evaristo , Clodo]  \n",
    "(CarloG , Alessio), (Evaristo , Clodo) = rate([A, B], ranks=[0, 1])\n",
    "# 6-2\n",
    "\n",
    "A = [CarloG , Evaristo]  \n",
    "B = [Clodo , Alessio]  \n",
    "(CarloG , Evaristo), (Clodo , Alessio) = rate([A, B], ranks=[0, 1])\n",
    "# 6-4\n",
    "\n",
    "A = [CarloG , Clodo]  \n",
    "B = [Evaristo , Alessio]  \n",
    "(CarloG , Clodo), (Evaristo , Alessio) = rate([A, B], ranks=[0, 1])\n",
    "# 6-3"
   ]
  },
  {
   "cell_type": "code",
   "execution_count": 36,
   "id": "e99c1861",
   "metadata": {},
   "outputs": [],
   "source": [
    "# ----------\n",
    "# 14 septiembre 2022\n",
    "# ----------\n",
    "\n",
    "A = [Dani , Clodo]  \n",
    "B = [Evaristo , CarloG]  \n",
    "(Dani , Clodo), (Evaristo , CarloG) = rate([A, B], ranks=[1, 0])\n",
    "# 2-6\n",
    "\n",
    "A = [CarloG , Clodo]  \n",
    "B = [Evaristo , Dani]  \n",
    "(CarloG , Clodo), (Evaristo , Dani) = rate([A, B], ranks=[1, 0])\n",
    "# 5-7\n",
    "\n",
    "A = [Clodo , Evaristo]  \n",
    "B = [CarloG , Dani]  \n",
    "(Clodo , Evaristo), (CarloG , Dani) = rate([A, B], ranks=[1, 0])\n",
    "# 3-6"
   ]
  },
  {
   "cell_type": "code",
   "execution_count": 37,
   "id": "a861eacf",
   "metadata": {},
   "outputs": [],
   "source": [
    "# ----------\n",
    "# 21 septiembre 2022\n",
    "# ----------\n",
    "\n",
    "A = [Marco , Marc]  \n",
    "B = [Dani , Guille]  \n",
    "(Marco , Marc), (Dani , Guille) = rate([A, B], ranks=[0, 1])\n",
    "# 6-3\n",
    "\n",
    "A = [Marco , Guille]  \n",
    "B = [Dani , Marc]  \n",
    "(Marco , Guille), (Dani , Marc) = rate([A, B], ranks=[0, 1])\n",
    "# 6-3\n",
    "\n",
    "A = [Marco , Dani]  \n",
    "B = [Marc , Guille]  \n",
    "(Marco , Dani), (Marc , Guille) = rate([A, B], ranks=[0, 1])\n",
    "# 7-5"
   ]
  },
  {
   "cell_type": "code",
   "execution_count": 38,
   "id": "5926e560",
   "metadata": {},
   "outputs": [],
   "source": [
    "# ----------\n",
    "# 28 septiembre 2022\n",
    "# ----------\n",
    "\n",
    "A = [Fede , Marc]  \n",
    "B = [Dani , Jan]  \n",
    "(Fede , Marc), (Dani , Jan) = rate([A, B], ranks=[0, 1])\n",
    "# 6-3\n",
    "\n",
    "A = [Marc , Jan]  \n",
    "B = [Dani , Fede]  \n",
    "(Marc , Jan), (Dani , Fede) = rate([A, B], ranks=[0, 1])\n",
    "# 6-3\n",
    "\n",
    "A = [Fede , Jan]  \n",
    "B = [Marc , Dani]  \n",
    "(Fede , Jan), (Marc , Dani) = rate([A, B], ranks=[1, 0])\n",
    "# 3-6\n",
    "\n",
    "A = [Fede , Marc]  \n",
    "B = [Dani , Jan]  \n",
    "(Fede , Marc), (Dani , Jan) = rate([A, B], ranks=[1, 0])\n",
    "# 2-6"
   ]
  },
  {
   "cell_type": "code",
   "execution_count": 39,
   "id": "c987f297",
   "metadata": {},
   "outputs": [],
   "source": [
    "# ----------\n",
    "# 5 octubre 2022 Serie A\n",
    "# ----------\n",
    "\n",
    "A = [Marco , Marc]  \n",
    "B = [Dani , CarloG]  \n",
    "(Marco , Marc), (Dani , CarloG) = rate([A, B], ranks=[1, 0])\n",
    "# 4-6\n",
    "\n",
    "A = [Marc , CarloG]  \n",
    "B = [Dani , Marco]  \n",
    "(Marc , CarloG), (Dani , Marco) = rate([A, B], ranks=[1, 0])\n",
    "# 5-7\n",
    "\n",
    "A = [Marco , CarloG]  \n",
    "B = [Marc , Dani]  \n",
    "(Marco , CarloG), (Marc , Dani) = rate([A, B], ranks=[0, 1])\n",
    "# 6-3\n",
    "\n",
    "A = [Marco , Marc]  \n",
    "B = [Dani , CarloG]  \n",
    "(Marco , Marc), (Dani , CarloG) = rate([A, B], ranks=[1, 0])\n",
    "# 2-6\n",
    "\n",
    "# ----------\n",
    "# 5 octubre 2022 Serie B\n",
    "# ----------\n",
    "A = [CarloC , Clodo]  \n",
    "B = [Evaristo , Jan]  \n",
    "(CarloC , Clodo), (Evaristo , Jan) = rate([A, B], ranks=[1, 0])\n",
    "# 4-6\n",
    "\n",
    "A = [Jan , Clodo]  \n",
    "B = [Evaristo , CarloC]  \n",
    "(Jan , Clodo), (Evaristo , CarloC) = rate([A, B], ranks=[0, 1])\n",
    "# 7-6\n",
    "\n",
    "A = [Clodo , Evaristo]  \n",
    "B = [CarloC , Jan]  \n",
    "(Clodo , Evaristo), (CarloC , Jan) = rate([A, B], ranks=[1, 0])\n",
    "# 4-6"
   ]
  },
  {
   "cell_type": "code",
   "execution_count": 40,
   "id": "6855715d",
   "metadata": {},
   "outputs": [],
   "source": [
    "# ----------\n",
    "# 19 octubre 2022\n",
    "# ----------\n",
    "\n",
    "A = [Fede , Marco]  \n",
    "B = [Dani , Clodo]  \n",
    "(Fede , Marco), (Dani , Clodo) = rate([A, B], ranks=[0, 1])\n",
    "# 6-4\n",
    "\n",
    "A = [Marco , Clodo]  \n",
    "B = [Dani , Fede]  \n",
    "(Marco , Clodo), (Dani , Fede) = rate([A, B], ranks=[1, 0])\n",
    "# 4-6\n",
    "\n",
    "A = [Fede , Clodo]  \n",
    "B = [Marco , Dani]  \n",
    "(Fede , Clodo), (Marco , Dani) = rate([A, B], ranks=[1, 0])\n",
    "# 1-6"
   ]
  },
  {
   "cell_type": "code",
   "execution_count": 41,
   "id": "e01f8985",
   "metadata": {},
   "outputs": [],
   "source": [
    "# ----------\n",
    "# 2 noviembre 2022 - Monistrol\n",
    "# ----------\n",
    "\n",
    "A = [CarloG , CarloS]  \n",
    "B = [Fede , Jan]  \n",
    "(CarloG , CarloS), (Fede , Jan) = rate([A, B], ranks=[1, 0])\n",
    "# 3-6\n",
    "\n",
    "A = [CarloS , Jan]  \n",
    "B = [CarloG , Fede]  \n",
    "(CarloS , Jan), (CarloG , Fede) = rate([A, B], ranks=[1, 0])\n",
    "# 0-6\n",
    "\n",
    "A = [CarloG , Jan]  \n",
    "B = [CarloS , Fede]  \n",
    "(CarloG , Jan), (CarlosS , Fede) = rate([A, B], ranks=[0, 1])\n",
    "# 6-2\n",
    "\n",
    "A = [CarloG , CarloS]  \n",
    "B = [Fede , Jan]  \n",
    "(CarloG , CarloS), (Fede , Jan) = rate([A, B], ranks=[0, 1])\n",
    "# 6-4\n",
    "\n",
    "# ----------\n",
    "# 2 noviembre 2022 - Samaranch\n",
    "# ----------\n",
    "A = [Dani , Marc]  \n",
    "B = [Marco , Toni]  \n",
    "(Dani , Marc), (Marco , Toni) = rate([A, B], ranks=[0, 1])\n",
    "# 6-2\n",
    "\n",
    "A = [Marc , Marco]  \n",
    "B = [Dani , Toni]  \n",
    "(Marc , Marco), (Dani , Toni) = rate([A, B], ranks=[0, 1])\n",
    "# 6-3\n",
    "\n",
    "A = [Marco , Dani]  \n",
    "B = [Marc , Toni]  \n",
    "(Marco , Dani), (Marc , Toni) = rate([A, B], ranks=[0, 1])\n",
    "# 6-4\n"
   ]
  },
  {
   "cell_type": "code",
   "execution_count": 42,
   "id": "e5c40b38",
   "metadata": {},
   "outputs": [],
   "source": [
    "# ----------\n",
    "# 9 noviembre 2022\n",
    "# ----------\n",
    "\n",
    "A = [Jan , Marc]  \n",
    "B = [Dani , Guille]  \n",
    "(Jan , Marc), (Dani , Guille) = rate([A, B], ranks=[0, 1])\n",
    "# 7-5\n",
    "\n",
    "A = [Jan , Guille]  \n",
    "B = [Dani , Marc]  \n",
    "(Jan , Guille), (Dani , Marc) = rate([A, B], ranks=[1, 0])\n",
    "# 2-6\n",
    "\n",
    "A = [Jan , Dani]  \n",
    "B = [Marc , Guille]  \n",
    "(Jan , Dani), (Marc , Guille) = rate([A, B], ranks=[0, 1])\n",
    "# 6-4"
   ]
  },
  {
   "cell_type": "code",
   "execution_count": 43,
   "id": "4262b609",
   "metadata": {},
   "outputs": [],
   "source": [
    "# ----------\n",
    "# 16 noviembre 2022\n",
    "# ----------\n",
    "\n",
    "A = [Fede , Marc]  \n",
    "B = [Guille , CarloG]  \n",
    "(Fede , Marc), (Guille , CarloG) = rate([A, B], ranks=[1, 0])\n",
    "# 1-6\n",
    "\n",
    "A = [Fede , CarloG]  \n",
    "B = [Guille , Marc]  \n",
    "(Fede , CarloG), (Guille , Marc) = rate([A, B], ranks=[0, 1])\n",
    "# 6-1\n",
    "\n",
    "A = [Marc , CarloG]  \n",
    "B = [Fede , Guille]  \n",
    "(Marc , CarloG), (Fede , Guille) = rate([A, B], ranks=[0, 1])\n",
    "# 6-1\n",
    "\n",
    "A = [Fede , Marc]  \n",
    "B = [Guille , CarloG]  \n",
    "(Fede , Marc), (Guille , CarloG) = rate([A, B], ranks=[1, 0])\n",
    "# 2-6\n",
    "\n",
    "A = [Fede , CarloG]  \n",
    "B = [Guille , Marc]  \n",
    "(Fede , CarloG), (Guille , Marc) = rate([A, B], ranks=[0, 1])\n",
    "# 6-1\n",
    "\n",
    "A = [Marc , CarloG]  \n",
    "B = [Fede , Guille]  \n",
    "(Marc , CarloG), (Fede , Guille) = rate([A, B], ranks=[0, 1])\n",
    "# 6-0"
   ]
  },
  {
   "cell_type": "code",
   "execution_count": 45,
   "id": "40837c2b",
   "metadata": {},
   "outputs": [],
   "source": [
    "# ----------\n",
    "# 7 diciembre 2022\n",
    "# ----------\n",
    "\n",
    "A = [CarloG , Fede]  \n",
    "B = [Gigi , Dani]  \n",
    "(CarloG , Fede), (Gigi , Dani) = rate([A, B], ranks=[0, 1])\n",
    "# 7-6\n",
    "\n",
    "A = [CarloG , Dani]  \n",
    "B = [Gigi , Fede]  \n",
    "(CarloG , Dani), (Gigi , Fede) = rate([A, B], ranks=[0, 1])\n",
    "# 6-0\n",
    "\n",
    "A = [CarloG , Gigi]  \n",
    "B = [Dani , Fede]  \n",
    "(CarloG , Gigi), (Dani , Fede) = rate([A, B], ranks=[0, 1])\n",
    "# 6-3"
   ]
  },
  {
   "cell_type": "code",
   "execution_count": 47,
   "id": "0cbe8a5c",
   "metadata": {},
   "outputs": [],
   "source": [
    "# ----------\n",
    "# 21 diciembre 2022\n",
    "# ----------\n",
    "A = [Dani , Marc]  \n",
    "B = [Marco , Gigi]  \n",
    "(Dani , Marc), (Marco , Gigi) = rate([A, B], ranks=[0, 1])\n",
    "# 7-6\n",
    "\n",
    "A = [Marc , Marco]  \n",
    "B = [Dani , Gigi]  \n",
    "(Marc , Marco), (Dani , Gigi) = rate([A, B], ranks=[1, 0])\n",
    "# 4-6\n",
    "\n",
    "A = [Marco , Dani]  \n",
    "B = [Marc , Gigi]  \n",
    "(Marco , Dani), (Marc , Gigi) = rate([A, B], ranks=[1, 0])\n",
    "# 3-6"
   ]
  },
  {
   "cell_type": "code",
   "execution_count": 50,
   "id": "340a4848",
   "metadata": {},
   "outputs": [],
   "source": [
    "# ----------\n",
    "# 5 enero 2023\n",
    "# ----------\n",
    "\n",
    "A = [Gigi , Guille]  \n",
    "B = [Clodo , Dani]  \n",
    "(Gigi , Guille), (Clodo , Dani) = rate([A, B], ranks=[0, 1])\n",
    "# 6-3\n",
    "\n",
    "A = [Guille , Dani]  \n",
    "B = [Gigi , Clodo]  \n",
    "(Guille , Dani), (Gigi , Clodo) = rate([A, B], ranks=[0, 1])\n",
    "# 6-1\n",
    "\n",
    "A = [Guille , Clodo]  \n",
    "B = [Dani , Gigi]  \n",
    "(Guille , Clodo), (Dani , Gigi) = rate([A, B], ranks=[1, 0])\n",
    "# 1-6"
   ]
  },
  {
   "cell_type": "code",
   "execution_count": 52,
   "id": "5f60c288",
   "metadata": {},
   "outputs": [],
   "source": [
    "# ----------\n",
    "# 11 enero 2023\n",
    "# ----------\n",
    "\n",
    "A = [Jan , Marco]  \n",
    "B = [Fede , Clodo]  \n",
    "(Jan , Marc), (Dani , Guille) = rate([A, B], ranks=[1, 0])\n",
    "# 5-7\n",
    "\n",
    "A = [Jan , Fede]  \n",
    "B = [Clodo , Marco]  \n",
    "(Jan , Fede), (Clodo , Marco) = rate([A, B], ranks=[1, 0])\n",
    "# 2-6\n",
    "\n",
    "A = [Jan , Clodo]  \n",
    "B = [Marc , Fede]  \n",
    "(Jan , Clodo), (Marc , Fede) = rate([A, B], ranks=[1, 0])\n",
    "# 2-6"
   ]
  },
  {
   "cell_type": "code",
   "execution_count": 54,
   "id": "91fb90eb",
   "metadata": {},
   "outputs": [],
   "source": [
    "# ----------\n",
    "# 18 enero 2023\n",
    "# ----------\n",
    "\n",
    "A = [Fede , Marc]  \n",
    "B = [Dani , Evaristo]  \n",
    "(Fede , Marc), (Dani , Evaristo) = rate([A, B], ranks=[0, 1])\n",
    "# 6-2\n",
    "\n",
    "A = [Marc , Evaristo]  \n",
    "B = [Dani , Fede]  \n",
    "(Marc , Evaristo), (Dani , Fede) = rate([A, B], ranks=[1, 0])\n",
    "# 6-7\n",
    "\n",
    "A = [Fede , Evaristo]  \n",
    "B = [Marc , Dani]  \n",
    "(Fede , Evaristo), (Marc , Dani) = rate([A, B], ranks=[1, 0])\n",
    "# 1-6\n",
    "\n",
    "A = [Fede , Marc]  \n",
    "B = [Dani , Evaristo]  \n",
    "(Fede , Marc), (Dani , Evaristo) = rate([A, B], ranks=[0, 1])\n",
    "# 6-2"
   ]
  },
  {
   "cell_type": "code",
   "execution_count": null,
   "id": "4324175e",
   "metadata": {},
   "outputs": [],
   "source": [
    "# ----------\n",
    "# 25 enero 2023\n",
    "# ----------\n",
    "\n",
    "A = [Gigi , Guille]  \n",
    "B = [Marc , Edo]  \n",
    "(Gigi , Guille), (Marc , Edo) = rate([A, B], ranks=[0, 1])\n",
    "# 6-2\n",
    "\n",
    "A = [Guille , Mar]  \n",
    "B = [Gigi , Clodo]  \n",
    "(Guille , Dani), (Gigi , Clodo) = rate([A, B], ranks=[0, 1])\n",
    "# 6-1\n",
    "\n",
    "A = [Guille , Clodo]  \n",
    "B = [Dani , Gigi]  \n",
    "(Guille , Clodo), (Dani , Gigi) = rate([A, B], ranks=[1, 0])\n",
    "# 1-6\n",
    "\n",
    "A = [Gigi , Guille]  \n",
    "B = [Marc , Edo]  \n",
    "(Gigi , Guille), (Marc , Edo) = rate([A, B], ranks=[1, 0])\n",
    "# 4-6"
   ]
  },
  {
   "cell_type": "code",
   "execution_count": 55,
   "id": "3e2ee916",
   "metadata": {},
   "outputs": [
    {
     "name": "stdout",
     "output_type": "stream",
     "text": [
      "        Name      Score\n",
      "0     CarloG  32.576014\n",
      "1      Marco  21.553467\n",
      "2       Gigi  19.663736\n",
      "3       Marc  19.616086\n",
      "4       Dani  18.606045\n",
      "5        Jan  17.277063\n",
      "6       Fede  17.051333\n",
      "7   Evaristo   9.209423\n",
      "8     CarloS   9.054477\n",
      "9     Guille   8.439390\n",
      "10       Edo   8.333333\n",
      "11   Alessio   7.889650\n",
      "12    CarloC   7.679184\n",
      "13     Clodo   6.468778\n",
      "14      Toni   3.750123\n"
     ]
    }
   ],
   "source": [
    "# ----------\n",
    "# Leaderboards \n",
    "# ----------\n",
    "\n",
    "leaderboards = pd.DataFrame(columns=['Name', 'Score'])\n",
    "j = 0\n",
    "for i in Guille, Fede, Dani, Clodo, Toni, Alessio, Evaristo, Gigi, CarloG, Marco, Marc, Jan, CarloC, CarloS, Edo:\n",
    "    leaderboards = leaderboards.append({'Name': players_names[j] , 'Score': i.mu.real - k*i.sigma.real}, ignore_index=True) \n",
    "    j = j + 1   \n",
    "    \n",
    "\n",
    "leaderboards = leaderboards.sort_values(by=['Score'] , ascending=False , ignore_index=True)\n",
    "print(leaderboards)"
   ]
  }
 ],
 "metadata": {
  "kernelspec": {
   "display_name": "Python 3",
   "language": "python",
   "name": "python3"
  },
  "language_info": {
   "codemirror_mode": {
    "name": "ipython",
    "version": 3
   },
   "file_extension": ".py",
   "mimetype": "text/x-python",
   "name": "python",
   "nbconvert_exporter": "python",
   "pygments_lexer": "ipython3",
   "version": "3.8.8"
  }
 },
 "nbformat": 4,
 "nbformat_minor": 5
}
